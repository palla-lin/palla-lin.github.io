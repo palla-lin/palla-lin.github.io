{
 "cells": [
  {
   "cell_type": "code",
   "execution_count": null,
   "metadata": {
    "colab": {
     "base_uri": "https://localhost:8080/"
    },
    "executionInfo": {
     "elapsed": 743,
     "status": "ok",
     "timestamp": 1610864014659,
     "user": {
      "displayName": "palla lin",
      "photoUrl": "",
      "userId": "14085275430525630850"
     },
     "user_tz": -480
    },
    "id": "ViveIp6TO6Zu",
    "outputId": "72eb6b79-b2fb-4b6e-bd00-f346017c6a17"
   },
   "outputs": [
    {
     "name": "stdout",
     "output_type": "stream",
     "text": [
      "Drive already mounted at /content/drive; to attempt to forcibly remount, call drive.mount(\"/content/drive\", force_remount=True).\n"
     ]
    }
   ],
   "source": [
    "# import os\n",
    "# from google.colab import drive\n",
    "# drive.mount('/content/drive')\n",
    "# os.chdir('/content/drive/My Drive/Colab Notebooks/CL/assign5/')"
   ]
  },
  {
   "cell_type": "markdown",
   "metadata": {
    "id": "FubE9Ajfy_yZ"
   },
   "source": [
    "# General information\n",
    "\n",
    "1. The python envirentment is the defaut envirentment in Google Colab. Python version: 3.6.9 .\n",
    "2. Wall time: 3h 45min 12s\n",
    "\n",
    "\n"
   ]
  },
  {
   "cell_type": "code",
   "execution_count": null,
   "metadata": {
    "id": "p9xiC9MWrU85"
   },
   "outputs": [],
   "source": [
    "import numpy as np\n",
    "from itertools import chain"
   ]
  },
  {
   "cell_type": "markdown",
   "metadata": {
    "id": "o3LPbvP7ht5s"
   },
   "source": [
    "# Define paths"
   ]
  },
  {
   "cell_type": "code",
   "execution_count": null,
   "metadata": {
    "id": "BzeJWUqPbkdN"
   },
   "outputs": [],
   "source": [
    "# define your own rootpath\n",
    "rootpath = ''\n",
    "paths = {\n",
    "    'movie': rootpath+'movies-pp.txt',\n",
    "}"
   ]
  },
  {
   "cell_type": "markdown",
   "metadata": {
    "id": "Nuz7kKNYhs8Z"
   },
   "source": [
    "#Prepare data"
   ]
  },
  {
   "cell_type": "code",
   "execution_count": null,
   "metadata": {
    "colab": {
     "base_uri": "https://localhost:8080/"
    },
    "executionInfo": {
     "elapsed": 1468,
     "status": "ok",
     "timestamp": 1610864015399,
     "user": {
      "displayName": "palla lin",
      "photoUrl": "",
      "userId": "14085275430525630850"
     },
     "user_tz": -480
    },
    "id": "tbxvzAcTNZQt",
    "outputId": "79a7d9ee-4a0f-425e-e7cc-d4474ef50b47"
   },
   "outputs": [
    {
     "data": {
      "text/plain": [
       "(2000, 46517)"
      ]
     },
     "execution_count": 10,
     "metadata": {
      "tags": []
     },
     "output_type": "execute_result"
    }
   ],
   "source": [
    "file = open(paths['movie'])\n",
    "text = [line[:-1].split(' ') for line in file if len(line) > 10]\n",
    "# text=text[:3]\n",
    "vocab = list(set(chain(*text)))\n",
    "\n",
    "n_docs = len(text)  # the number of documents\n",
    "n_vocab = len(vocab)  # the number of unique words\n",
    "word2index = dict(zip(vocab, range(n_vocab)))  # lookup\n",
    "index2word = dict(zip(range(n_vocab), vocab))\n",
    "# convert word to its coresponding index\n",
    "text = [[word2index[text[m][n]]\n",
    "         for n in range(len(text[m]))]for m in range(n_docs)]\n",
    "\n",
    "n_docs, n_vocab"
   ]
  },
  {
   "cell_type": "markdown",
   "metadata": {
    "id": "595fqC1dnHOr"
   },
   "source": [
    "# Gibbs sampling\n",
    "\n",
    "extra: using numpy"
   ]
  },
  {
   "cell_type": "code",
   "execution_count": null,
   "metadata": {
    "id": "igyKlBX101FB"
   },
   "outputs": [],
   "source": [
    "def initialize(n_topics):\n",
    "    global topic_mn\n",
    "    global docs_topic\n",
    "    global topic_word\n",
    "    topic_mn = []  # topic_mn[m][n]: the topic of the word n in the document m\n",
    "    # docs_topic[m,k]: count of the topic k in the document m\n",
    "    docs_topic = np.zeros((n_docs, n_topics))\n",
    "    # topic_word[k,n]: count of the word n in the topic k\n",
    "    topic_word = np.zeros((n_topics, n_vocab))\n",
    "    topic_prob = np.ones(n_topics)/n_topics\n",
    "    for m in range(n_docs):\n",
    "        topic_n = []\n",
    "        for n in range(len(text[m])):\n",
    "            # randomly assign a topic to a word\n",
    "            k = np.random.multinomial(1, topic_prob).argmax()\n",
    "            topic_n.append(k)  # record the topic of the word\n",
    "            docs_topic[m, k] += 1\n",
    "            topic_word[k, text[m][n]] += 1\n",
    "        topic_mn.append(topic_n)\n",
    "\n",
    "\n",
    "def gibbs(alpha, beta, iteration, n_topics):\n",
    "    for iter in range(iteration):\n",
    "        for m in range(n_docs):\n",
    "            for n in range(len(text[m])):\n",
    "                k = topic_mn[m][n]\n",
    "                docs_topic[m, k] -= 1\n",
    "                topic_word[k, text[m][n]] -= 1\n",
    "\n",
    "                # sampling according to formula 5\n",
    "                theta = (docs_topic[m, :]+alpha) / \\\n",
    "                    (docs_topic[m, :]+alpha).sum()  # （1，10）\n",
    "                phi = (topic_word[:, text[m][n]]+beta) / \\\n",
    "                    (topic_word[:, text[m][n]]+beta).sum()\n",
    "                p_mn = theta*phi\n",
    "                p_mn = p_mn/p_mn.sum()\n",
    "\n",
    "                # update the topic of the word\n",
    "                k = np.random.multinomial(1, p_mn).argmax()\n",
    "                topic_mn[m][n] = k\n",
    "\n",
    "                docs_topic[m, k] += 1\n",
    "                topic_word[k, text[m][n]] += 1\n",
    "        if iter % 50 == 0:\n",
    "            print(f'ititeration:{iter} is done')\n",
    "\n",
    "# get topk for each topic\n",
    "\n",
    "\n",
    "def get_topics(num):\n",
    "    c = np.argsort(topic_word, axis=1)[:, :-num-1:-1]\n",
    "    for i in range(n_topics):\n",
    "        words = []\n",
    "        for j in range(num):\n",
    "            words.append(index2word[c[i, j]])\n",
    "        print(f'topic {i} : {words}')"
   ]
  },
  {
   "cell_type": "code",
   "execution_count": null,
   "metadata": {
    "colab": {
     "base_uri": "https://localhost:8080/"
    },
    "executionInfo": {
     "elapsed": 13514839,
     "status": "ok",
     "timestamp": 1610877528778,
     "user": {
      "displayName": "palla lin",
      "photoUrl": "",
      "userId": "14085275430525630850"
     },
     "user_tz": -480
    },
    "id": "ch00MYzF1eGa",
    "outputId": "2fec41d8-c628-4dea-acf0-86fb459f3622"
   },
   "outputs": [
    {
     "name": "stdout",
     "output_type": "stream",
     "text": [
      "ititeration:0 is done\n",
      "ititeration:50 is done\n",
      "ititeration:100 is done\n",
      "ititeration:150 is done\n",
      "ititeration:200 is done\n",
      "ititeration:250 is done\n",
      "ititeration:300 is done\n",
      "ititeration:350 is done\n",
      "ititeration:400 is done\n",
      "ititeration:450 is done\n",
      "topic 0 : ['reusing', 'like', 'high-society', '83', 'chariot', 'puerto', 'sworn', 'gore', 'denigrates', 'godless']\n",
      "topic 1 : ['foretold', 'cottwell', 'reusing', 'godless', 'high-society', '83', 'chariot', 'puerto', 'sworn', 'gore']\n",
      "topic 2 : ['loxley', 'jitters', 'engrossing', 'argento', '83', 'chariot', 'puerto', 'sworn', 'gore', 'denigrates']\n",
      "topic 3 : ['film', 'movie', 'one', 'like', 'even', 'good', 'time', 'would', 'story', 'much']\n",
      "topic 4 : ['reusing', 'like', 'high-society', '83', 'chariot', 'puerto', 'sworn', 'gore', 'denigrates', 'godless']\n",
      "topic 5 : ['agamemnon', 'reusing', 'denigrates', 'like', 'uncleanness', 'high-society', '83', 'chariot', 'puerto', 'sworn']\n",
      "topic 6 : ['reusing', 'like', 'high-society', '83', 'chariot', 'puerto', 'sworn', 'gore', 'denigrates', 'godless']\n",
      "topic 7 : ['cord', 'reusing', 'humanistic', 'high-society', '83', 'chariot', 'puerto', 'sworn', 'gore', 'denigrates']\n",
      "topic 8 : ['conditions', 'grunted', 'pant-wetter', 'reusing', 'humanistic', 'high-society', '83', 'chariot', 'puerto', 'sworn']\n",
      "topic 9 : ['forego', 'holistic', 'fleder', 'high-society', '83', 'chariot', 'puerto', 'sworn', 'gore', 'denigrates']\n",
      "topic 10 : ['reusing', 'like', 'high-society', '83', 'chariot', 'puerto', 'sworn', 'gore', 'denigrates', 'godless']\n",
      "topic 11 : ['transplanted', 'clich-heckerling', 'godless', 'like', 'uncleanness', 'high-society', '83', 'chariot', 'puerto', 'sworn']\n",
      "topic 12 : ['idisyncratic', 'semi-lighting', 'acceleration', 'hinge', 'buys', 'high-society', '83', 'chariot', 'puerto', 'sworn']\n",
      "topic 13 : ['reusing', 'like', 'high-society', '83', 'chariot', 'puerto', 'sworn', 'gore', 'denigrates', 'godless']\n",
      "topic 14 : ['reusing', 'like', 'high-society', '83', 'chariot', 'puerto', 'sworn', 'gore', 'denigrates', 'godless']\n",
      "topic 15 : ['reusing', 'like', 'high-society', '83', 'chariot', 'puerto', 'sworn', 'gore', 'denigrates', 'godless']\n",
      "topic 16 : ['barletta', 'reusing', 'godless', 'uncleanness', 'high-society', '83', 'chariot', 'puerto', 'sworn', 'gore']\n",
      "topic 17 : ['feline', 'reusing', 'humanistic', 'high-society', '83', 'chariot', 'puerto', 'sworn', 'gore', 'denigrates']\n",
      "topic 18 : ['recreates', 'reusing', 'uncleanness', 'high-society', '83', 'chariot', 'puerto', 'sworn', 'gore', 'denigrates']\n",
      "topic 19 : ['warrirors', 'mowed', 'star-studded', 'godless', 'like', 'uncleanness', 'high-society', '83', 'chariot', 'puerto']\n",
      "CPU times: user 3h 44min 3s, sys: 12.1 s, total: 3h 44min 15s\n",
      "Wall time: 3h 45min 12s\n"
     ]
    }
   ],
   "source": [
    "%% time\n",
    "# hyper parameters\n",
    "alpha = 0.02\n",
    "beta = 0.1\n",
    "n_topics = 20  # the number of topics\n",
    "iteration = 500\n",
    "\n",
    "initialize(n_topics)\n",
    "gibbs(alpha, beta, iteration, n_topics)\n",
    "get_topics(10)"
   ]
  },
  {
   "cell_type": "markdown",
   "metadata": {},
   "source": []
  }
 ],
 "metadata": {
  "colab": {
   "name": "myLDA.ipynb",
   "provenance": [],
   "toc_visible": true
  },
  "kernelspec": {
   "display_name": "Python 3",
   "language": "python",
   "name": "python3"
  },
  "language_info": {
   "codemirror_mode": {
    "name": "ipython",
    "version": 3
   },
   "file_extension": ".py",
   "mimetype": "text/x-python",
   "name": "python",
   "nbconvert_exporter": "python",
   "pygments_lexer": "ipython3",
   "version": "3.7.6"
  },
  "toc": {
   "base_numbering": 1,
   "nav_menu": {},
   "number_sections": true,
   "sideBar": true,
   "skip_h1_title": false,
   "title_cell": "Table of Contents",
   "title_sidebar": "Contents",
   "toc_cell": false,
   "toc_position": {},
   "toc_section_display": true,
   "toc_window_display": true
  },
  "varInspector": {
   "cols": {
    "lenName": 16,
    "lenType": 16,
    "lenVar": 40
   },
   "kernels_config": {
    "python": {
     "delete_cmd_postfix": "",
     "delete_cmd_prefix": "del ",
     "library": "var_list.py",
     "varRefreshCmd": "print(var_dic_list())"
    },
    "r": {
     "delete_cmd_postfix": ") ",
     "delete_cmd_prefix": "rm(",
     "library": "var_list.r",
     "varRefreshCmd": "cat(var_dic_list()) "
    }
   },
   "types_to_exclude": [
    "module",
    "function",
    "builtin_function_or_method",
    "instance",
    "_Feature"
   ],
   "window_display": false
  }
 },
 "nbformat": 4,
 "nbformat_minor": 1
}
